{
 "cells": [
  {
   "cell_type": "code",
   "execution_count": null,
   "metadata": {
    "colab": {},
    "colab_type": "code",
    "id": "Jr4cugH3mZ_X"
   },
   "outputs": [],
   "source": [
    "\n"
   ]
  },
  {
   "cell_type": "code",
   "execution_count": 1,
   "metadata": {},
   "outputs": [],
   "source": [
    "import pandas as pd\n",
    "import numpy as np\n",
    "import nltk\n",
    "import string\n",
    "import matplotlib.pyplot as plt\n",
    "%matplotlib inline\n",
    "import seaborn as sns"
   ]
  },
  {
   "cell_type": "code",
   "execution_count": 2,
   "metadata": {},
   "outputs": [],
   "source": [
    "# Getting data into a dataframe\n",
    "df = pd.read_csv('Reviews.CSV')"
   ]
  },
  {
   "cell_type": "code",
   "execution_count": 15,
   "metadata": {},
   "outputs": [],
   "source": [
    "#!pip install keras"
   ]
  },
  {
   "cell_type": "code",
   "execution_count": 16,
   "metadata": {
    "colab": {},
    "colab_type": "code",
    "id": "QFvl3cl7Ny3K"
   },
   "outputs": [],
   "source": [
    "#!pip install numpy==1.16.1"
   ]
  },
  {
   "cell_type": "code",
   "execution_count": 3,
   "metadata": {},
   "outputs": [
    {
     "name": "stdout",
     "output_type": "stream",
     "text": [
      "(525814, 10)\n"
     ]
    },
    {
     "name": "stderr",
     "output_type": "stream",
     "text": [
      "C:\\Users\\IDM LAB-01\\Anaconda3\\lib\\site-packages\\ipykernel_launcher.py:12: SettingWithCopyWarning: \n",
      "A value is trying to be set on a copy of a slice from a DataFrame.\n",
      "Try using .loc[row_indexer,col_indexer] = value instead\n",
      "\n",
      "See the caveats in the documentation: http://pandas.pydata.org/pandas-docs/stable/indexing.html#indexing-view-versus-copy\n",
      "  if sys.path[0] == '':\n"
     ]
    },
    {
     "data": {
      "text/html": [
       "<div>\n",
       "<style scoped>\n",
       "    .dataframe tbody tr th:only-of-type {\n",
       "        vertical-align: middle;\n",
       "    }\n",
       "\n",
       "    .dataframe tbody tr th {\n",
       "        vertical-align: top;\n",
       "    }\n",
       "\n",
       "    .dataframe thead th {\n",
       "        text-align: right;\n",
       "    }\n",
       "</style>\n",
       "<table border=\"1\" class=\"dataframe\">\n",
       "  <thead>\n",
       "    <tr style=\"text-align: right;\">\n",
       "      <th></th>\n",
       "      <th>Id</th>\n",
       "      <th>ProductId</th>\n",
       "      <th>UserId</th>\n",
       "      <th>ProfileName</th>\n",
       "      <th>HelpfulnessNumerator</th>\n",
       "      <th>HelpfulnessDenominator</th>\n",
       "      <th>Score</th>\n",
       "      <th>Time</th>\n",
       "      <th>Summary</th>\n",
       "      <th>Text</th>\n",
       "    </tr>\n",
       "  </thead>\n",
       "  <tbody>\n",
       "    <tr>\n",
       "      <th>0</th>\n",
       "      <td>1</td>\n",
       "      <td>B001E4KFG0</td>\n",
       "      <td>A3SGXH7AUHU8GW</td>\n",
       "      <td>delmartian</td>\n",
       "      <td>1</td>\n",
       "      <td>1</td>\n",
       "      <td>1</td>\n",
       "      <td>1303862400</td>\n",
       "      <td>Good Quality Dog Food</td>\n",
       "      <td>I have bought several of the Vitality canned d...</td>\n",
       "    </tr>\n",
       "    <tr>\n",
       "      <th>1</th>\n",
       "      <td>2</td>\n",
       "      <td>B00813GRG4</td>\n",
       "      <td>A1D87F6ZCVE5NK</td>\n",
       "      <td>dll pa</td>\n",
       "      <td>0</td>\n",
       "      <td>0</td>\n",
       "      <td>0</td>\n",
       "      <td>1346976000</td>\n",
       "      <td>Not as Advertised</td>\n",
       "      <td>Product arrived labeled as Jumbo Salted Peanut...</td>\n",
       "    </tr>\n",
       "    <tr>\n",
       "      <th>2</th>\n",
       "      <td>3</td>\n",
       "      <td>B000LQOCH0</td>\n",
       "      <td>ABXLMWJIXXAIN</td>\n",
       "      <td>Natalia Corres \"Natalia Corres\"</td>\n",
       "      <td>1</td>\n",
       "      <td>1</td>\n",
       "      <td>1</td>\n",
       "      <td>1219017600</td>\n",
       "      <td>\"Delight\" says it all</td>\n",
       "      <td>This is a confection that has been around a fe...</td>\n",
       "    </tr>\n",
       "    <tr>\n",
       "      <th>3</th>\n",
       "      <td>4</td>\n",
       "      <td>B000UA0QIQ</td>\n",
       "      <td>A395BORC6FGVXV</td>\n",
       "      <td>Karl</td>\n",
       "      <td>3</td>\n",
       "      <td>3</td>\n",
       "      <td>0</td>\n",
       "      <td>1307923200</td>\n",
       "      <td>Cough Medicine</td>\n",
       "      <td>If you are looking for the secret ingredient i...</td>\n",
       "    </tr>\n",
       "    <tr>\n",
       "      <th>4</th>\n",
       "      <td>5</td>\n",
       "      <td>B006K2ZZ7K</td>\n",
       "      <td>A1UQRSCLF8GW1T</td>\n",
       "      <td>Michael D. Bigham \"M. Wassir\"</td>\n",
       "      <td>0</td>\n",
       "      <td>0</td>\n",
       "      <td>1</td>\n",
       "      <td>1350777600</td>\n",
       "      <td>Great taffy</td>\n",
       "      <td>Great taffy at a great price.  There was a wid...</td>\n",
       "    </tr>\n",
       "  </tbody>\n",
       "</table>\n",
       "</div>"
      ],
      "text/plain": [
       "   Id   ProductId          UserId                      ProfileName  \\\n",
       "0   1  B001E4KFG0  A3SGXH7AUHU8GW                       delmartian   \n",
       "1   2  B00813GRG4  A1D87F6ZCVE5NK                           dll pa   \n",
       "2   3  B000LQOCH0   ABXLMWJIXXAIN  Natalia Corres \"Natalia Corres\"   \n",
       "3   4  B000UA0QIQ  A395BORC6FGVXV                             Karl   \n",
       "4   5  B006K2ZZ7K  A1UQRSCLF8GW1T    Michael D. Bigham \"M. Wassir\"   \n",
       "\n",
       "   HelpfulnessNumerator  HelpfulnessDenominator  Score        Time  \\\n",
       "0                     1                       1      1  1303862400   \n",
       "1                     0                       0      0  1346976000   \n",
       "2                     1                       1      1  1219017600   \n",
       "3                     3                       3      0  1307923200   \n",
       "4                     0                       0      1  1350777600   \n",
       "\n",
       "                 Summary                                               Text  \n",
       "0  Good Quality Dog Food  I have bought several of the Vitality canned d...  \n",
       "1      Not as Advertised  Product arrived labeled as Jumbo Salted Peanut...  \n",
       "2  \"Delight\" says it all  This is a confection that has been around a fe...  \n",
       "3         Cough Medicine  If you are looking for the secret ingredient i...  \n",
       "4            Great taffy  Great taffy at a great price.  There was a wid...  "
      ]
     },
     "execution_count": 3,
     "metadata": {},
     "output_type": "execute_result"
    }
   ],
   "source": [
    "# Eliminating neutral reviews i.e. those reviews with Score = 3\n",
    "data_filtered = df[df['Score'] != 3]\n",
    "\n",
    "# Converting Score variables to binary class variable (1-positive review and 0-negative review)\n",
    "# Give reviews with Score>3 a positive rating (1) , and reviews with a score<3 a negative rating (0).\n",
    "def polarity(x):\n",
    "    if x < 3:\n",
    "        return 0\n",
    "    return 1\n",
    "\n",
    "# Applying polarity function on Score column of filtered_data\n",
    "data_filtered['Score'] = data_filtered['Score'].map(polarity)\n",
    "\n",
    "print(data_filtered.shape)\n",
    "data_filtered.head()"
   ]
  },
  {
   "cell_type": "markdown",
   "metadata": {},
   "source": [
    "Observation: in Score column 1 = positive review and 0 = negative review"
   ]
  },
  {
   "cell_type": "markdown",
   "metadata": {},
   "source": [
    "# Data Cleaning:\n",
    "Deduplication"
   ]
  },
  {
   "cell_type": "code",
   "execution_count": 4,
   "metadata": {},
   "outputs": [
    {
     "name": "stdout",
     "output_type": "stream",
     "text": [
      "(364171, 10)\n"
     ]
    },
    {
     "data": {
      "text/html": [
       "<div>\n",
       "<style scoped>\n",
       "    .dataframe tbody tr th:only-of-type {\n",
       "        vertical-align: middle;\n",
       "    }\n",
       "\n",
       "    .dataframe tbody tr th {\n",
       "        vertical-align: top;\n",
       "    }\n",
       "\n",
       "    .dataframe thead th {\n",
       "        text-align: right;\n",
       "    }\n",
       "</style>\n",
       "<table border=\"1\" class=\"dataframe\">\n",
       "  <thead>\n",
       "    <tr style=\"text-align: right;\">\n",
       "      <th></th>\n",
       "      <th>Id</th>\n",
       "      <th>ProductId</th>\n",
       "      <th>UserId</th>\n",
       "      <th>ProfileName</th>\n",
       "      <th>HelpfulnessNumerator</th>\n",
       "      <th>HelpfulnessDenominator</th>\n",
       "      <th>Score</th>\n",
       "      <th>Time</th>\n",
       "      <th>Summary</th>\n",
       "      <th>Text</th>\n",
       "    </tr>\n",
       "  </thead>\n",
       "  <tbody>\n",
       "    <tr>\n",
       "      <th>150500</th>\n",
       "      <td>150501</td>\n",
       "      <td>0006641040</td>\n",
       "      <td>AJ46FKXOVC7NR</td>\n",
       "      <td>Nicholas A Mesiano</td>\n",
       "      <td>2</td>\n",
       "      <td>2</td>\n",
       "      <td>1</td>\n",
       "      <td>940809600</td>\n",
       "      <td>This whole series is great way to spend time w...</td>\n",
       "      <td>I can remember seeing the show when it aired o...</td>\n",
       "    </tr>\n",
       "    <tr>\n",
       "      <th>150492</th>\n",
       "      <td>150493</td>\n",
       "      <td>0006641040</td>\n",
       "      <td>AMX0PJKV4PPNJ</td>\n",
       "      <td>E. R. Bird \"Ramseelbird\"</td>\n",
       "      <td>71</td>\n",
       "      <td>72</td>\n",
       "      <td>1</td>\n",
       "      <td>1096416000</td>\n",
       "      <td>Read it once. Read it twice. Reading Chicken S...</td>\n",
       "      <td>These days, when a person says, \"chicken soup\"...</td>\n",
       "    </tr>\n",
       "    <tr>\n",
       "      <th>150499</th>\n",
       "      <td>150500</td>\n",
       "      <td>0006641040</td>\n",
       "      <td>A1IJKK6Q1GTEAY</td>\n",
       "      <td>A Customer</td>\n",
       "      <td>2</td>\n",
       "      <td>2</td>\n",
       "      <td>1</td>\n",
       "      <td>1009324800</td>\n",
       "      <td>It Was a favorite!</td>\n",
       "      <td>This was a favorite book of mine when I was a ...</td>\n",
       "    </tr>\n",
       "    <tr>\n",
       "      <th>150498</th>\n",
       "      <td>150499</td>\n",
       "      <td>0006641040</td>\n",
       "      <td>A3E7R866M94L0C</td>\n",
       "      <td>L. Barker \"simienwolf\"</td>\n",
       "      <td>2</td>\n",
       "      <td>2</td>\n",
       "      <td>1</td>\n",
       "      <td>1065830400</td>\n",
       "      <td>Can't explain why</td>\n",
       "      <td>This book has been a favorite of mine since I ...</td>\n",
       "    </tr>\n",
       "    <tr>\n",
       "      <th>515425</th>\n",
       "      <td>515426</td>\n",
       "      <td>141278509X</td>\n",
       "      <td>AB1A5EGHHVA9M</td>\n",
       "      <td>CHelmic</td>\n",
       "      <td>1</td>\n",
       "      <td>1</td>\n",
       "      <td>1</td>\n",
       "      <td>1332547200</td>\n",
       "      <td>The best drink mix</td>\n",
       "      <td>This product by Archer Farms is the best drink...</td>\n",
       "    </tr>\n",
       "    <tr>\n",
       "      <th>24750</th>\n",
       "      <td>24751</td>\n",
       "      <td>2734888454</td>\n",
       "      <td>A1C298ITT645B6</td>\n",
       "      <td>Hugh G. Pritchard</td>\n",
       "      <td>0</td>\n",
       "      <td>0</td>\n",
       "      <td>1</td>\n",
       "      <td>1195948800</td>\n",
       "      <td>Dog Lover Delites</td>\n",
       "      <td>Our dogs just love them.  I saw them in a pet ...</td>\n",
       "    </tr>\n",
       "    <tr>\n",
       "      <th>24749</th>\n",
       "      <td>24750</td>\n",
       "      <td>2734888454</td>\n",
       "      <td>A13ISQV0U9GZIC</td>\n",
       "      <td>Sandikaye</td>\n",
       "      <td>1</td>\n",
       "      <td>1</td>\n",
       "      <td>0</td>\n",
       "      <td>1192060800</td>\n",
       "      <td>made in china</td>\n",
       "      <td>My dogs loves this chicken but its a product f...</td>\n",
       "    </tr>\n",
       "    <tr>\n",
       "      <th>308076</th>\n",
       "      <td>308077</td>\n",
       "      <td>2841233731</td>\n",
       "      <td>A3QD68O22M2XHQ</td>\n",
       "      <td>LABRNTH</td>\n",
       "      <td>0</td>\n",
       "      <td>0</td>\n",
       "      <td>1</td>\n",
       "      <td>1345852800</td>\n",
       "      <td>Great recipe book for my babycook</td>\n",
       "      <td>This book is easy to read and the ingredients ...</td>\n",
       "    </tr>\n",
       "    <tr>\n",
       "      <th>171160</th>\n",
       "      <td>171161</td>\n",
       "      <td>7310172001</td>\n",
       "      <td>AFXMWPNS1BLU4</td>\n",
       "      <td>H. Sandler</td>\n",
       "      <td>0</td>\n",
       "      <td>0</td>\n",
       "      <td>1</td>\n",
       "      <td>1229385600</td>\n",
       "      <td>Excellent treats</td>\n",
       "      <td>I have been feeding my greyhounds these treats...</td>\n",
       "    </tr>\n",
       "    <tr>\n",
       "      <th>171159</th>\n",
       "      <td>171160</td>\n",
       "      <td>7310172001</td>\n",
       "      <td>A74C7IARQEM1R</td>\n",
       "      <td>stucker</td>\n",
       "      <td>0</td>\n",
       "      <td>0</td>\n",
       "      <td>1</td>\n",
       "      <td>1230076800</td>\n",
       "      <td>Sophie's Treats</td>\n",
       "      <td>This is one product that my welsh terrier can ...</td>\n",
       "    </tr>\n",
       "    <tr>\n",
       "      <th>171143</th>\n",
       "      <td>171144</td>\n",
       "      <td>7310172001</td>\n",
       "      <td>A1V5MY8V9AWUQB</td>\n",
       "      <td>Cheryl Sapper \"champagne girl\"</td>\n",
       "      <td>0</td>\n",
       "      <td>0</td>\n",
       "      <td>1</td>\n",
       "      <td>1244764800</td>\n",
       "      <td>THE BEST healthy dog treat!</td>\n",
       "      <td>This is the ONLY dog treat that my Lhasa Apso ...</td>\n",
       "    </tr>\n",
       "    <tr>\n",
       "      <th>171142</th>\n",
       "      <td>171143</td>\n",
       "      <td>7310172001</td>\n",
       "      <td>A2SWO60IW01VPX</td>\n",
       "      <td>Sam</td>\n",
       "      <td>0</td>\n",
       "      <td>0</td>\n",
       "      <td>1</td>\n",
       "      <td>1252022400</td>\n",
       "      <td>My Alaskan Malamute Loves Them!!</td>\n",
       "      <td>These liver treas are phenomenal. When i recei...</td>\n",
       "    </tr>\n",
       "    <tr>\n",
       "      <th>171147</th>\n",
       "      <td>171148</td>\n",
       "      <td>7310172001</td>\n",
       "      <td>A3TFTWTG2CC1GA</td>\n",
       "      <td>J. Umphress</td>\n",
       "      <td>0</td>\n",
       "      <td>0</td>\n",
       "      <td>1</td>\n",
       "      <td>1240272000</td>\n",
       "      <td>Best treat ever!</td>\n",
       "      <td>This was the only treat my dog liked during ob...</td>\n",
       "    </tr>\n",
       "    <tr>\n",
       "      <th>171141</th>\n",
       "      <td>171142</td>\n",
       "      <td>7310172001</td>\n",
       "      <td>A2ZO1AYFVQYG44</td>\n",
       "      <td>Cindy Rellie \"Rellie\"</td>\n",
       "      <td>0</td>\n",
       "      <td>0</td>\n",
       "      <td>1</td>\n",
       "      <td>1254960000</td>\n",
       "      <td>my 12 year old maltese has always loved these</td>\n",
       "      <td>No waste , even if she is having a  day when s...</td>\n",
       "    </tr>\n",
       "    <tr>\n",
       "      <th>171140</th>\n",
       "      <td>171141</td>\n",
       "      <td>7310172001</td>\n",
       "      <td>AZ40270J4JBZN</td>\n",
       "      <td>Zhinka Chunmee \"gamer from way back in the 70's\"</td>\n",
       "      <td>0</td>\n",
       "      <td>0</td>\n",
       "      <td>1</td>\n",
       "      <td>1264291200</td>\n",
       "      <td>Dogs, Cats, Ferrets all love this</td>\n",
       "      <td>I wanted a treat that was accepted and well li...</td>\n",
       "    </tr>\n",
       "    <tr>\n",
       "      <th>171139</th>\n",
       "      <td>171140</td>\n",
       "      <td>7310172001</td>\n",
       "      <td>ADXXVGRCGQQUO</td>\n",
       "      <td>Richard Pearlstein</td>\n",
       "      <td>0</td>\n",
       "      <td>0</td>\n",
       "      <td>1</td>\n",
       "      <td>1264377600</td>\n",
       "      <td>5 snouts!</td>\n",
       "      <td>My Westie loves these things!  She loves anyth...</td>\n",
       "    </tr>\n",
       "    <tr>\n",
       "      <th>171138</th>\n",
       "      <td>171139</td>\n",
       "      <td>7310172001</td>\n",
       "      <td>A13MS1JQG2ADOJ</td>\n",
       "      <td>C. Perrone</td>\n",
       "      <td>0</td>\n",
       "      <td>0</td>\n",
       "      <td>1</td>\n",
       "      <td>1265760000</td>\n",
       "      <td>Best dog treat ever</td>\n",
       "      <td>This is the only dog treat that my terrier wil...</td>\n",
       "    </tr>\n",
       "    <tr>\n",
       "      <th>171137</th>\n",
       "      <td>171138</td>\n",
       "      <td>7310172001</td>\n",
       "      <td>A13LAE0YTXA11B</td>\n",
       "      <td>Dita Vyslouzilova \"dita\"</td>\n",
       "      <td>0</td>\n",
       "      <td>0</td>\n",
       "      <td>1</td>\n",
       "      <td>1269216000</td>\n",
       "      <td>Great for puppy training</td>\n",
       "      <td>New puppy loves this, only treat he will pay a...</td>\n",
       "    </tr>\n",
       "    <tr>\n",
       "      <th>171158</th>\n",
       "      <td>171159</td>\n",
       "      <td>7310172001</td>\n",
       "      <td>A16GY2RCF410DT</td>\n",
       "      <td>LB</td>\n",
       "      <td>0</td>\n",
       "      <td>0</td>\n",
       "      <td>1</td>\n",
       "      <td>1231718400</td>\n",
       "      <td>Great!</td>\n",
       "      <td>My dog loves these treats!  We started using t...</td>\n",
       "    </tr>\n",
       "    <tr>\n",
       "      <th>171144</th>\n",
       "      <td>171145</td>\n",
       "      <td>7310172001</td>\n",
       "      <td>A1L8DNQYY69L2Z</td>\n",
       "      <td>R. Flores</td>\n",
       "      <td>0</td>\n",
       "      <td>0</td>\n",
       "      <td>1</td>\n",
       "      <td>1243728000</td>\n",
       "      <td>Terrific Treats</td>\n",
       "      <td>This is a great treat which all three of my do...</td>\n",
       "    </tr>\n",
       "  </tbody>\n",
       "</table>\n",
       "</div>"
      ],
      "text/plain": [
       "            Id   ProductId          UserId  \\\n",
       "150500  150501  0006641040   AJ46FKXOVC7NR   \n",
       "150492  150493  0006641040   AMX0PJKV4PPNJ   \n",
       "150499  150500  0006641040  A1IJKK6Q1GTEAY   \n",
       "150498  150499  0006641040  A3E7R866M94L0C   \n",
       "515425  515426  141278509X   AB1A5EGHHVA9M   \n",
       "24750    24751  2734888454  A1C298ITT645B6   \n",
       "24749    24750  2734888454  A13ISQV0U9GZIC   \n",
       "308076  308077  2841233731  A3QD68O22M2XHQ   \n",
       "171160  171161  7310172001   AFXMWPNS1BLU4   \n",
       "171159  171160  7310172001   A74C7IARQEM1R   \n",
       "171143  171144  7310172001  A1V5MY8V9AWUQB   \n",
       "171142  171143  7310172001  A2SWO60IW01VPX   \n",
       "171147  171148  7310172001  A3TFTWTG2CC1GA   \n",
       "171141  171142  7310172001  A2ZO1AYFVQYG44   \n",
       "171140  171141  7310172001   AZ40270J4JBZN   \n",
       "171139  171140  7310172001   ADXXVGRCGQQUO   \n",
       "171138  171139  7310172001  A13MS1JQG2ADOJ   \n",
       "171137  171138  7310172001  A13LAE0YTXA11B   \n",
       "171158  171159  7310172001  A16GY2RCF410DT   \n",
       "171144  171145  7310172001  A1L8DNQYY69L2Z   \n",
       "\n",
       "                                             ProfileName  \\\n",
       "150500                                Nicholas A Mesiano   \n",
       "150492                          E. R. Bird \"Ramseelbird\"   \n",
       "150499                                        A Customer   \n",
       "150498                            L. Barker \"simienwolf\"   \n",
       "515425                                           CHelmic   \n",
       "24750                                  Hugh G. Pritchard   \n",
       "24749                                          Sandikaye   \n",
       "308076                                           LABRNTH   \n",
       "171160                                        H. Sandler   \n",
       "171159                                           stucker   \n",
       "171143                    Cheryl Sapper \"champagne girl\"   \n",
       "171142                                               Sam   \n",
       "171147                                       J. Umphress   \n",
       "171141                             Cindy Rellie \"Rellie\"   \n",
       "171140  Zhinka Chunmee \"gamer from way back in the 70's\"   \n",
       "171139                                Richard Pearlstein   \n",
       "171138                                        C. Perrone   \n",
       "171137                          Dita Vyslouzilova \"dita\"   \n",
       "171158                                                LB   \n",
       "171144                                         R. Flores   \n",
       "\n",
       "        HelpfulnessNumerator  HelpfulnessDenominator  Score        Time  \\\n",
       "150500                     2                       2      1   940809600   \n",
       "150492                    71                      72      1  1096416000   \n",
       "150499                     2                       2      1  1009324800   \n",
       "150498                     2                       2      1  1065830400   \n",
       "515425                     1                       1      1  1332547200   \n",
       "24750                      0                       0      1  1195948800   \n",
       "24749                      1                       1      0  1192060800   \n",
       "308076                     0                       0      1  1345852800   \n",
       "171160                     0                       0      1  1229385600   \n",
       "171159                     0                       0      1  1230076800   \n",
       "171143                     0                       0      1  1244764800   \n",
       "171142                     0                       0      1  1252022400   \n",
       "171147                     0                       0      1  1240272000   \n",
       "171141                     0                       0      1  1254960000   \n",
       "171140                     0                       0      1  1264291200   \n",
       "171139                     0                       0      1  1264377600   \n",
       "171138                     0                       0      1  1265760000   \n",
       "171137                     0                       0      1  1269216000   \n",
       "171158                     0                       0      1  1231718400   \n",
       "171144                     0                       0      1  1243728000   \n",
       "\n",
       "                                                  Summary  \\\n",
       "150500  This whole series is great way to spend time w...   \n",
       "150492  Read it once. Read it twice. Reading Chicken S...   \n",
       "150499                                 It Was a favorite!   \n",
       "150498                                  Can't explain why   \n",
       "515425                                 The best drink mix   \n",
       "24750                                   Dog Lover Delites   \n",
       "24749                                       made in china   \n",
       "308076                  Great recipe book for my babycook   \n",
       "171160                                   Excellent treats   \n",
       "171159                                    Sophie's Treats   \n",
       "171143                        THE BEST healthy dog treat!   \n",
       "171142                   My Alaskan Malamute Loves Them!!   \n",
       "171147                                   Best treat ever!   \n",
       "171141      my 12 year old maltese has always loved these   \n",
       "171140                  Dogs, Cats, Ferrets all love this   \n",
       "171139                                          5 snouts!   \n",
       "171138                                Best dog treat ever   \n",
       "171137                           Great for puppy training   \n",
       "171158                                             Great!   \n",
       "171144                                    Terrific Treats   \n",
       "\n",
       "                                                     Text  \n",
       "150500  I can remember seeing the show when it aired o...  \n",
       "150492  These days, when a person says, \"chicken soup\"...  \n",
       "150499  This was a favorite book of mine when I was a ...  \n",
       "150498  This book has been a favorite of mine since I ...  \n",
       "515425  This product by Archer Farms is the best drink...  \n",
       "24750   Our dogs just love them.  I saw them in a pet ...  \n",
       "24749   My dogs loves this chicken but its a product f...  \n",
       "308076  This book is easy to read and the ingredients ...  \n",
       "171160  I have been feeding my greyhounds these treats...  \n",
       "171159  This is one product that my welsh terrier can ...  \n",
       "171143  This is the ONLY dog treat that my Lhasa Apso ...  \n",
       "171142  These liver treas are phenomenal. When i recei...  \n",
       "171147  This was the only treat my dog liked during ob...  \n",
       "171141  No waste , even if she is having a  day when s...  \n",
       "171140  I wanted a treat that was accepted and well li...  \n",
       "171139  My Westie loves these things!  She loves anyth...  \n",
       "171138  This is the only dog treat that my terrier wil...  \n",
       "171137  New puppy loves this, only treat he will pay a...  \n",
       "171158  My dog loves these treats!  We started using t...  \n",
       "171144  This is a great treat which all three of my do...  "
      ]
     },
     "execution_count": 4,
     "metadata": {},
     "output_type": "execute_result"
    }
   ],
   "source": [
    "#Sorting data according to ProductId in ascending order\n",
    "sorted_data=data_filtered.sort_values('ProductId', axis=0, ascending=True, inplace=False, kind='quicksort', na_position='last')\n",
    "\n",
    "#Deduplication of entries\n",
    "final=sorted_data.drop_duplicates(subset={\"UserId\",\"ProfileName\",\"Time\",\"Text\"}, keep='first', inplace=False)\n",
    "\n",
    "# Removing rows where HelpfulnessNumerator is greater than HelpfulnessDenominator\n",
    "final = final[final.HelpfulnessNumerator <= final.HelpfulnessDenominator]\n",
    "\n",
    "print(final.shape)\n",
    "final[30:50]\n"
   ]
  },
  {
   "cell_type": "markdown",
   "metadata": {},
   "source": [
    "Observation:  Books with ProductId - 0006641040 and 2841233731 are also there so we have to remove all these rows with these ProductIds from the data"
   ]
  },
  {
   "cell_type": "code",
   "execution_count": 5,
   "metadata": {},
   "outputs": [
    {
     "data": {
      "text/plain": [
       "(364136, 10)"
      ]
     },
     "execution_count": 5,
     "metadata": {},
     "output_type": "execute_result"
    }
   ],
   "source": [
    "final = final[final['ProductId'] != '2841233731']\n",
    "final = final[final['ProductId'] != '0006641040']\n",
    "final.shape"
   ]
  },
  {
   "cell_type": "code",
   "execution_count": 6,
   "metadata": {},
   "outputs": [],
   "source": [
    "final = final.sample(frac=1).reset_index(drop = True)"
   ]
  },
  {
   "cell_type": "markdown",
   "metadata": {},
   "source": [
    "# Text Preprocessing: Stemming, stop-word removal and Lemmatization."
   ]
  },
  {
   "cell_type": "code",
   "execution_count": 7,
   "metadata": {},
   "outputs": [],
   "source": [
    "from sklearn.feature_extraction.text import CountVectorizer\n",
    "from nltk.stem.porter import PorterStemmer\n",
    "import re\n",
    "import string\n",
    "from nltk.corpus import stopwords\n",
    "from nltk.stem import PorterStemmer\n",
    "from nltk.stem.wordnet import WordNetLemmatizer"
   ]
  },
  {
   "cell_type": "code",
   "execution_count": 8,
   "metadata": {},
   "outputs": [
    {
     "name": "stderr",
     "output_type": "stream",
     "text": [
      "[nltk_data] Downloading package stopwords to C:\\Users\\IDM\n",
      "[nltk_data]     LAB-01\\AppData\\Roaming\\nltk_data...\n",
      "[nltk_data]   Unzipping corpora\\stopwords.zip.\n"
     ]
    }
   ],
   "source": [
    "# Downloading stopwords\n",
    "nltk.download('stopwords')\n",
    "\n",
    "#set of stopwords in English\n",
    "from nltk.corpus import stopwords\n",
    "stop = set(stopwords.words('english'))\n",
    "words_to_keep = set(('not'))\n",
    "stop -= words_to_keep\n",
    "#initialising the snowball stemmer\n",
    "sno = nltk.stem.SnowballStemmer('english')\n",
    "\n",
    " #function to clean the word of any html-tags\n",
    "def cleanhtml(sentence):\n",
    "    cleanr = re.compile('<.*?>')\n",
    "    cleantext = re.sub(cleanr, ' ', sentence)\n",
    "    return cleantext\n",
    "\n",
    "#function to clean the word of any punctuation or special characters\n",
    "def cleanpunc(sentence): \n",
    "    cleaned = re.sub(r'[?|!|\\'|\"|#]',r'',sentence)\n",
    "    cleaned = re.sub(r'[.|,|)|(|\\|/]',r' ',cleaned)\n",
    "    return  cleaned"
   ]
  },
  {
   "cell_type": "code",
   "execution_count": 9,
   "metadata": {},
   "outputs": [],
   "source": [
    "\n",
    "#Code for removing HTML tags , punctuations . Code for removing stopwords . Code for checking if word is not alphanumeric and\n",
    "# also greater than 2 . Code for stemmimg and also to convert them to lowercase letters \n",
    "i=0\n",
    "str1=' '\n",
    "final_string=[]\n",
    "all_positive_words=[] # store words from +ve reviews here\n",
    "all_negative_words=[] # store words from -ve reviews here.\n",
    "s=''\n",
    "for sent in final['Text'].values:\n",
    "    filtered_sentence=[]\n",
    "    #print(sent);\n",
    "    sent=cleanhtml(sent) # remove HTMl tags\n",
    "    for w in sent.split():\n",
    "        for cleaned_words in cleanpunc(w).split():\n",
    "            if((cleaned_words.isalpha()) & (len(cleaned_words)>2)):    \n",
    "                if(cleaned_words.lower() not in stop):\n",
    "                    s=(sno.stem(cleaned_words.lower())).encode('utf8')\n",
    "                    filtered_sentence.append(s)\n",
    "                    if (final['Score'].values)[i] == 1: \n",
    "                        all_positive_words.append(s) #list of all words used to describe positive reviews\n",
    "                    if(final['Score'].values)[i] == 0:\n",
    "                        all_negative_words.append(s) #list of all words used to describe negative reviews reviews\n",
    "                else:\n",
    "                    continue\n",
    "            else:\n",
    "                continue \n",
    "    \n",
    "    str1 = b\" \".join(filtered_sentence) #final string of cleaned words\n",
    "    \n",
    "    \n",
    "    final_string.append(str1)\n",
    "    i+=1"
   ]
  },
  {
   "cell_type": "code",
   "execution_count": 10,
   "metadata": {},
   "outputs": [
    {
     "name": "stdout",
     "output_type": "stream",
     "text": [
      "Shape of final (364136, 11)\n"
     ]
    },
    {
     "data": {
      "text/html": [
       "<div>\n",
       "<style scoped>\n",
       "    .dataframe tbody tr th:only-of-type {\n",
       "        vertical-align: middle;\n",
       "    }\n",
       "\n",
       "    .dataframe tbody tr th {\n",
       "        vertical-align: top;\n",
       "    }\n",
       "\n",
       "    .dataframe thead th {\n",
       "        text-align: right;\n",
       "    }\n",
       "</style>\n",
       "<table border=\"1\" class=\"dataframe\">\n",
       "  <thead>\n",
       "    <tr style=\"text-align: right;\">\n",
       "      <th></th>\n",
       "      <th>Id</th>\n",
       "      <th>ProductId</th>\n",
       "      <th>UserId</th>\n",
       "      <th>ProfileName</th>\n",
       "      <th>HelpfulnessNumerator</th>\n",
       "      <th>HelpfulnessDenominator</th>\n",
       "      <th>Score</th>\n",
       "      <th>Time</th>\n",
       "      <th>Summary</th>\n",
       "      <th>Text</th>\n",
       "      <th>CleanedText</th>\n",
       "    </tr>\n",
       "  </thead>\n",
       "  <tbody>\n",
       "    <tr>\n",
       "      <th>0</th>\n",
       "      <td>258039</td>\n",
       "      <td>B002HNDYZG</td>\n",
       "      <td>A1AP88KBRBIQNX</td>\n",
       "      <td>Fittzbaron \"Fittzbaron\"</td>\n",
       "      <td>12</td>\n",
       "      <td>12</td>\n",
       "      <td>1</td>\n",
       "      <td>1266710400</td>\n",
       "      <td>Hadn't had one this good since the 80's</td>\n",
       "      <td>When the sweeteners were changed back in the e...</td>\n",
       "      <td>sweeten chang back earli thought someth differ...</td>\n",
       "    </tr>\n",
       "    <tr>\n",
       "      <th>1</th>\n",
       "      <td>44166</td>\n",
       "      <td>B0007NOWMM</td>\n",
       "      <td>A7XU6G458L769</td>\n",
       "      <td>Roslyn Bowers</td>\n",
       "      <td>0</td>\n",
       "      <td>0</td>\n",
       "      <td>1</td>\n",
       "      <td>1268092800</td>\n",
       "      <td>just a question</td>\n",
       "      <td>I love all the coffee I purchased. I have a qu...</td>\n",
       "      <td>love coffe purchas question vanilla packag sma...</td>\n",
       "    </tr>\n",
       "    <tr>\n",
       "      <th>2</th>\n",
       "      <td>85240</td>\n",
       "      <td>B0014EOU8E</td>\n",
       "      <td>A28FLGQMEM0HXY</td>\n",
       "      <td>Donna E Cox</td>\n",
       "      <td>1</td>\n",
       "      <td>1</td>\n",
       "      <td>1</td>\n",
       "      <td>1303257600</td>\n",
       "      <td>Great taste, great value @ $2/bottle!</td>\n",
       "      <td>Gambled and bought a case of this juice @ $2/b...</td>\n",
       "      <td>gambl bought case juic bottl never tri tasti y...</td>\n",
       "    </tr>\n",
       "    <tr>\n",
       "      <th>3</th>\n",
       "      <td>106263</td>\n",
       "      <td>B000UK3G2Y</td>\n",
       "      <td>A1PRUWNUYO5THO</td>\n",
       "      <td>K. Kostoff</td>\n",
       "      <td>2</td>\n",
       "      <td>2</td>\n",
       "      <td>1</td>\n",
       "      <td>1199577600</td>\n",
       "      <td>Fantastic Tea</td>\n",
       "      <td>This is my first Market Spice tea and I think ...</td>\n",
       "      <td>first market spice tea think terrif sweet oran...</td>\n",
       "    </tr>\n",
       "    <tr>\n",
       "      <th>4</th>\n",
       "      <td>2262</td>\n",
       "      <td>B003HG6U3A</td>\n",
       "      <td>A1EZWXGYUD3HYU</td>\n",
       "      <td>PingPing</td>\n",
       "      <td>0</td>\n",
       "      <td>0</td>\n",
       "      <td>1</td>\n",
       "      <td>1275782400</td>\n",
       "      <td>Por Kwan Chilli Paste w/ Sweet Basil Leaves Hi...</td>\n",
       "      <td>I'm on my first jar of this, and am really enj...</td>\n",
       "      <td>first jar realli enjoy add concoct vegetarian ...</td>\n",
       "    </tr>\n",
       "  </tbody>\n",
       "</table>\n",
       "</div>"
      ],
      "text/plain": [
       "       Id   ProductId          UserId              ProfileName  \\\n",
       "0  258039  B002HNDYZG  A1AP88KBRBIQNX  Fittzbaron \"Fittzbaron\"   \n",
       "1   44166  B0007NOWMM   A7XU6G458L769            Roslyn Bowers   \n",
       "2   85240  B0014EOU8E  A28FLGQMEM0HXY              Donna E Cox   \n",
       "3  106263  B000UK3G2Y  A1PRUWNUYO5THO               K. Kostoff   \n",
       "4    2262  B003HG6U3A  A1EZWXGYUD3HYU                 PingPing   \n",
       "\n",
       "   HelpfulnessNumerator  HelpfulnessDenominator  Score        Time  \\\n",
       "0                    12                      12      1  1266710400   \n",
       "1                     0                       0      1  1268092800   \n",
       "2                     1                       1      1  1303257600   \n",
       "3                     2                       2      1  1199577600   \n",
       "4                     0                       0      1  1275782400   \n",
       "\n",
       "                                             Summary  \\\n",
       "0            Hadn't had one this good since the 80's   \n",
       "1                                    just a question   \n",
       "2              Great taste, great value @ $2/bottle!   \n",
       "3                                      Fantastic Tea   \n",
       "4  Por Kwan Chilli Paste w/ Sweet Basil Leaves Hi...   \n",
       "\n",
       "                                                Text  \\\n",
       "0  When the sweeteners were changed back in the e...   \n",
       "1  I love all the coffee I purchased. I have a qu...   \n",
       "2  Gambled and bought a case of this juice @ $2/b...   \n",
       "3  This is my first Market Spice tea and I think ...   \n",
       "4  I'm on my first jar of this, and am really enj...   \n",
       "\n",
       "                                         CleanedText  \n",
       "0  sweeten chang back earli thought someth differ...  \n",
       "1  love coffe purchas question vanilla packag sma...  \n",
       "2  gambl bought case juic bottl never tri tasti y...  \n",
       "3  first market spice tea think terrif sweet oran...  \n",
       "4  first jar realli enjoy add concoct vegetarian ...  "
      ]
     },
     "execution_count": 10,
     "metadata": {},
     "output_type": "execute_result"
    }
   ],
   "source": [
    "#adding a column of CleanedText which displays the data after pre-processing of the review\n",
    "final['CleanedText']=final_string  \n",
    "final['CleanedText']=final['CleanedText'].str.decode(\"utf-8\")\n",
    "#below the processed review can be seen in the CleanedText Column \n",
    "print('Shape of final',final.shape)\n",
    "final.head()"
   ]
  },
  {
   "cell_type": "markdown",
   "metadata": {},
   "source": [
    "# Converting this data as IMDB dataset"
   ]
  },
  {
   "cell_type": "code",
   "execution_count": 11,
   "metadata": {},
   "outputs": [],
   "source": [
    "from gensim.models import Word2Vec\n",
    "from gensim.models import KeyedVectors\n",
    "import pickle"
   ]
  },
  {
   "cell_type": "code",
   "execution_count": 12,
   "metadata": {},
   "outputs": [
    {
     "name": "stdout",
     "output_type": "stream",
     "text": [
      "No. of words in the Vocabulary :  71611\n"
     ]
    }
   ],
   "source": [
    "##Sorting data according to Time in ascending order for Time Based Splitting\n",
    "time_sorted_data = final.sort_values('Time', axis=0, ascending=True, inplace=False, kind='quicksort', na_position='last')\n",
    "\n",
    "x = time_sorted_data['CleanedText'].values\n",
    "y = time_sorted_data['Score']\n",
    "\n",
    "# Finding all words in the vocabulary\n",
    "count_vect = CountVectorizer() \n",
    "count_vect.fit(x)\n",
    "\n",
    "vocabulary = count_vect.get_feature_names()\n",
    "print('No. of words in the Vocabulary : ',len(vocabulary))"
   ]
  },
  {
   "cell_type": "code",
   "execution_count": 13,
   "metadata": {},
   "outputs": [],
   "source": [
    "# Storing all words in the dictionary (words as keys and index as values)\n",
    "corpus = dict()\n",
    "ind = 0\n",
    "for sent in x:\n",
    "  for word in sent.split():\n",
    "    corpus.setdefault(word,[])\n",
    "    corpus[word].append(ind)\n",
    "    ind += 1\n",
    "\n",
    "# Getting frequency for each word of vocabulary and storing it in a list\n",
    "freq = []\n",
    "for w in vocabulary:\n",
    "  freq.append(len(corpus[w]))"
   ]
  },
  {
   "cell_type": "code",
   "execution_count": 14,
   "metadata": {},
   "outputs": [],
   "source": [
    "# Getting Index for each word in the vocabulary\n",
    "# Sorting frequencies in decreasing order\n",
    "inc_index =np.argsort(np.array(freq))[::-1]\n",
    "\n",
    "# Allocating ranks to words of vocabulary in decreasing order of frequency and storing words in a dictionary\n",
    "word_rank = dict()\n",
    "rank = 1\n",
    "for i in inc_index:\n",
    "  word_rank[vocabulary[i]] = rank\n",
    "  rank +=1"
   ]
  },
  {
   "cell_type": "code",
   "execution_count": 15,
   "metadata": {},
   "outputs": [],
   "source": [
    "# Converting full data into imdb format\n",
    "data = []\n",
    "for sent in x:\n",
    "  row = []\n",
    "  for word in sent.split():\n",
    "    if(len(word)>1):\n",
    "      row.append(word_rank[word])\n",
    "  data.append(row)\n",
    "\n",
    "# Splitting the data into 70-30 train_data and test_data\n",
    "from sklearn.model_selection import train_test_split \n",
    "X_train, X_test, Y_train, Y_test = train_test_split(data, y, test_size=0.5, random_state=42)"
   ]
  },
  {
   "cell_type": "code",
   "execution_count": 16,
   "metadata": {},
   "outputs": [
    {
     "data": {
      "text/plain": [
       "'from keras.preprocessing.text import Tokenizer\\ntokenizer = Tokenizer(num_words=5000)\\ntokenizer.fit_on_texts(X_train)\\n\\nX_train = tokenizer.texts_to_sequences(X_train)\\nX_test = tokenizer.texts_to_sequences(X_test)'"
      ]
     },
     "execution_count": 16,
     "metadata": {},
     "output_type": "execute_result"
    }
   ],
   "source": [
    "'''from keras.preprocessing.text import Tokenizer\n",
    "tokenizer = Tokenizer(num_words=5000)\n",
    "tokenizer.fit_on_texts(X_train)\n",
    "\n",
    "X_train = tokenizer.texts_to_sequences(X_train)\n",
    "X_test = tokenizer.texts_to_sequences(X_test)'''"
   ]
  },
  {
   "cell_type": "code",
   "execution_count": 17,
   "metadata": {},
   "outputs": [
    {
     "name": "stdout",
     "output_type": "stream",
     "text": [
      "No. of datapoints in X_train : 182068\n",
      "No. of datapoints in X_test : 182068\n",
      "Shape of Y_train : (182068,)\n",
      "Shape of Y_test : (182068,)\n"
     ]
    }
   ],
   "source": [
    "print(\"No. of datapoints in X_train :\",len(X_train))\n",
    "print(\"No. of datapoints in X_test :\",len(X_test))\n",
    "print(\"Shape of Y_train :\",Y_train.shape)\n",
    "print(\"Shape of Y_test :\",Y_test.shape)"
   ]
  },
  {
   "cell_type": "code",
   "execution_count": 18,
   "metadata": {},
   "outputs": [
    {
     "name": "stderr",
     "output_type": "stream",
     "text": [
      "Using TensorFlow backend.\n"
     ]
    }
   ],
   "source": [
    "# Importing libraries\n",
    "from keras.models import Sequential\n",
    "from keras.layers import Dense\n",
    "from keras.layers import LSTM\n",
    "from keras.layers.embeddings import Embedding\n",
    "from keras.preprocessing import sequence\n",
    "from keras.layers import Dropout\n",
    "# fix random seed for reproducibility\n",
    "np.random.seed(7)"
   ]
  },
  {
   "cell_type": "code",
   "execution_count": 19,
   "metadata": {},
   "outputs": [
    {
     "name": "stdout",
     "output_type": "stream",
     "text": [
      "(182068, 100)\n",
      "[    0     0     0     0     0     0     0     0     0     0     0     0\n",
      "     0     0     0     0     0     0     0     0     0     0     0     0\n",
      "     0     0     0     0     0     0     0     0     0  7336   349  4915\n",
      "   395   410  2174  2415  4915   395   371   820  1438    61    35  9687\n",
      "  1481     6    98  1510   410     2    28    37    91   334   743  1510\n",
      "   906   410   243    91  1068  1391   231    84    39  2174  2415  4915\n",
      "   395    40   956   210   580   632   300    65   108     4   465  2703\n",
      "   238   576   109   643  1635   398   280   297 10364    40  4915   395\n",
      "   172    21    82    17]\n"
     ]
    }
   ],
   "source": [
    "# truncate and/or pad input sequences\n",
    "max_review_length = 100\n",
    "X_train = sequence.pad_sequences(X_train, maxlen=max_review_length)\n",
    "X_test = sequence.pad_sequences(X_test, maxlen=max_review_length)\n",
    "\n",
    "print(X_train.shape)\n",
    "print(X_train[1])"
   ]
  },
  {
   "cell_type": "code",
   "execution_count": 20,
   "metadata": {},
   "outputs": [],
   "source": [
    "\n",
    "# this function is used draw Binary Crossentropy Loss VS No. of epochs plot\n",
    "def plt_dynamic(x, vy, ty):\n",
    "  plt.figure(figsize=(10,5))\n",
    "  plt.plot(x, vy, 'b', label=\"Validation Loss\")\n",
    "  plt.plot(x, ty, 'r', label=\"Train Loss\")\n",
    "  plt.xlabel('Epochs') \n",
    "  plt.ylabel('Binary Crossentropy Loss')\n",
    "  plt.title('\\nBinary Crossentropy Loss VS Epochs')\n",
    "  plt.legend()\n",
    "  plt.grid()\n",
    "  plt.show()"
   ]
  },
  {
   "cell_type": "code",
   "execution_count": null,
   "metadata": {},
   "outputs": [],
   "source": []
  },
  {
   "cell_type": "code",
   "execution_count": null,
   "metadata": {
    "colab": {},
    "colab_type": "code",
    "id": "d2wKJO5g1Bzc"
   },
   "outputs": [],
   "source": []
  },
  {
   "cell_type": "markdown",
   "metadata": {
    "colab_type": "text",
    "id": "NkKHIeXt5pnF"
   },
   "source": [
    "#Model(1 LSTM Layer)"
   ]
  },
  {
   "cell_type": "code",
   "execution_count": 21,
   "metadata": {},
   "outputs": [],
   "source": [
    "# Credits: https://machinelearningmastery.com/sequence-classification-lstm-recurrent-neural-networks-python-keras/\n",
    "# LSTM for sequence classification in the IMDB dataset\n",
    "import numpy\n",
    "import pandas as pd\n",
    "#from keras.datasets import imdb\n",
    "from keras.models import Sequential\n",
    "from keras.layers import Dense\n",
    "from keras.layers import LSTM\n",
    "from keras.layers.embeddings import Embedding\n",
    "from keras.preprocessing import sequence\n",
    "# fix random seed for reproducibility\n",
    "numpy.random.seed(7)"
   ]
  },
  {
   "cell_type": "code",
   "execution_count": 36,
   "metadata": {
    "colab": {
     "base_uri": "https://localhost:8080/",
     "height": 255
    },
    "colab_type": "code",
    "id": "CquzlqrOIYGn",
    "outputId": "67655336-cc14-44a0-9f54-e87f1088b3a9"
   },
   "outputs": [
    {
     "name": "stderr",
     "output_type": "stream",
     "text": [
      "WARNING: Logging before flag parsing goes to stderr.\n",
      "W0625 21:21:33.008895  6576 deprecation_wrapper.py:119] From C:\\Users\\IDM LAB-09\\Anaconda3\\lib\\site-packages\\keras\\backend\\tensorflow_backend.py:74: The name tf.get_default_graph is deprecated. Please use tf.compat.v1.get_default_graph instead.\n",
      "\n",
      "W0625 21:21:33.174904  6576 deprecation_wrapper.py:119] From C:\\Users\\IDM LAB-09\\Anaconda3\\lib\\site-packages\\keras\\backend\\tensorflow_backend.py:517: The name tf.placeholder is deprecated. Please use tf.compat.v1.placeholder instead.\n",
      "\n",
      "W0625 21:21:33.176904  6576 deprecation_wrapper.py:119] From C:\\Users\\IDM LAB-09\\Anaconda3\\lib\\site-packages\\keras\\backend\\tensorflow_backend.py:4138: The name tf.random_uniform is deprecated. Please use tf.random.uniform instead.\n",
      "\n",
      "W0625 21:21:33.489922  6576 deprecation_wrapper.py:119] From C:\\Users\\IDM LAB-09\\Anaconda3\\lib\\site-packages\\keras\\optimizers.py:790: The name tf.train.Optimizer is deprecated. Please use tf.compat.v1.train.Optimizer instead.\n",
      "\n",
      "W0625 21:21:33.505923  6576 deprecation_wrapper.py:119] From C:\\Users\\IDM LAB-09\\Anaconda3\\lib\\site-packages\\keras\\backend\\tensorflow_backend.py:3376: The name tf.log is deprecated. Please use tf.math.log instead.\n",
      "\n",
      "W0625 21:21:33.510924  6576 deprecation.py:323] From C:\\Users\\IDM LAB-09\\Anaconda3\\lib\\site-packages\\tensorflow\\python\\ops\\nn_impl.py:180: add_dispatch_support.<locals>.wrapper (from tensorflow.python.ops.array_ops) is deprecated and will be removed in a future version.\n",
      "Instructions for updating:\n",
      "Use tf.where in 2.0, which has the same broadcast rule as np.where\n"
     ]
    },
    {
     "name": "stdout",
     "output_type": "stream",
     "text": [
      "_________________________________________________________________\n",
      "Layer (type)                 Output Shape              Param #   \n",
      "=================================================================\n",
      "embedding_1 (Embedding)      (None, 100, 32)           2291584   \n",
      "_________________________________________________________________\n",
      "lstm_1 (LSTM)                (None, 100)               53200     \n",
      "_________________________________________________________________\n",
      "dense_1 (Dense)              (None, 1)                 101       \n",
      "=================================================================\n",
      "Total params: 2,344,885\n",
      "Trainable params: 2,344,885\n",
      "Non-trainable params: 0\n",
      "_________________________________________________________________\n",
      "None\n"
     ]
    }
   ],
   "source": [
    "# create the model\n",
    "embedding_vecor_length = 32\n",
    "model1 = Sequential()\n",
    "model1.add(Embedding(len(vocabulary)+1, embedding_vecor_length, input_length=max_review_length))\n",
    "model1.add(LSTM(100))\n",
    "model1.add(Dense(1, activation='sigmoid'))\n",
    "model1.compile(loss='binary_crossentropy', optimizer='adam', metrics=['accuracy'])\n",
    "print(model1.summary())\n",
    "#Refer: https://datascience.stackexchange.com/questions/10615/number-of-parameters-in-an-lstm-model"
   ]
  },
  {
   "cell_type": "code",
   "execution_count": 37,
   "metadata": {},
   "outputs": [
    {
     "name": "stderr",
     "output_type": "stream",
     "text": [
      "C:\\Users\\IDM LAB-09\\Anaconda3\\lib\\site-packages\\ipykernel_launcher.py:2: UserWarning: The `nb_epoch` argument in `fit` has been renamed `epochs`.\n",
      "  \n",
      "W0625 21:21:35.405032  6576 deprecation_wrapper.py:119] From C:\\Users\\IDM LAB-09\\Anaconda3\\lib\\site-packages\\keras\\backend\\tensorflow_backend.py:986: The name tf.assign_add is deprecated. Please use tf.compat.v1.assign_add instead.\n",
      "\n"
     ]
    },
    {
     "name": "stdout",
     "output_type": "stream",
     "text": [
      "Train on 182068 samples, validate on 182068 samples\n",
      "Epoch 1/10\n",
      "182068/182068 [==============================] - 210s 1ms/step - loss: 0.2621 - acc: 0.8985 - val_loss: 0.2013 - val_acc: 0.9211\n",
      "Epoch 2/10\n",
      "182068/182068 [==============================] - 282s 2ms/step - loss: 0.1814 - acc: 0.9298 - val_loss: 0.2000 - val_acc: 0.9213\n",
      "Epoch 3/10\n",
      "182068/182068 [==============================] - 284s 2ms/step - loss: 0.1646 - acc: 0.9367 - val_loss: 0.1965 - val_acc: 0.9227\n",
      "Epoch 4/10\n",
      "182068/182068 [==============================] - 210s 1ms/step - loss: 0.1533 - acc: 0.9416 - val_loss: 0.2088 - val_acc: 0.9218\n",
      "Epoch 5/10\n",
      "182068/182068 [==============================] - 207s 1ms/step - loss: 0.1420 - acc: 0.9459 - val_loss: 0.2002 - val_acc: 0.9218\n",
      "Epoch 6/10\n",
      "182068/182068 [==============================] - 207s 1ms/step - loss: 0.1312 - acc: 0.9508 - val_loss: 0.2079 - val_acc: 0.9196\n",
      "Epoch 7/10\n",
      "182068/182068 [==============================] - 204s 1ms/step - loss: 0.1187 - acc: 0.9557 - val_loss: 0.2163 - val_acc: 0.9179\n",
      "Epoch 8/10\n",
      "182068/182068 [==============================] - 201s 1ms/step - loss: 0.1095 - acc: 0.9593 - val_loss: 0.2248 - val_acc: 0.9193\n",
      "Epoch 9/10\n",
      "182068/182068 [==============================] - 187s 1ms/step - loss: 0.0995 - acc: 0.9636 - val_loss: 0.2433 - val_acc: 0.9173\n",
      "Epoch 10/10\n",
      "182068/182068 [==============================] - 200s 1ms/step - loss: 0.0913 - acc: 0.9664 - val_loss: 0.2651 - val_acc: 0.9156\n"
     ]
    }
   ],
   "source": [
    "# Fitting the data to the model\n",
    "history1 = model1.fit(X_train, Y_train, nb_epoch=10, batch_size=512 ,verbose=1,validation_data=(X_test, Y_test))"
   ]
  },
  {
   "cell_type": "code",
   "execution_count": 38,
   "metadata": {},
   "outputs": [
    {
     "name": "stdout",
     "output_type": "stream",
     "text": [
      "Accuracy: 91.56%\n"
     ]
    },
    {
     "data": {
      "image/png": "[encoded data removed]",
      "text/plain": [
       "<Figure size 720x360 with 1 Axes>"
      ]
     },
     "metadata": {
      "needs_background": "light"
     },
     "output_type": "display_data"
    }
   ],
   "source": [
    "# Final evaluation of the model\n",
    "scores = model1.evaluate(X_test, Y_test, verbose=0)\n",
    "print(\"Accuracy: %.2f%%\" % (scores[1]*100))\n",
    "\n",
    "# Test and train accuracy of the model\n",
    "model1_test = scores[1]\n",
    "model1_train = max(history1.history['acc'])\n",
    "\n",
    "# Plotting Train and Test Loss VS no. of epochs\n",
    "# list of epoch numbers\n",
    "x = list(range(1,11))\n",
    "\n",
    "# Validation loss\n",
    "vy = history1.history['val_loss']\n",
    "# Training loss\n",
    "ty = history1.history['loss']\n",
    "\n",
    "# Calling the function to draw the plot\n",
    "plt_dynamic(x, vy, ty)"
   ]
  },
  {
   "cell_type": "markdown",
   "metadata": {
    "colab_type": "text",
    "id": "6Ow6ZNn77zf9"
   },
   "source": [
    "#Model (2 Lstm layers with dropout)"
   ]
  },
  {
   "cell_type": "code",
   "execution_count": 22,
   "metadata": {
    "colab": {
     "base_uri": "https://localhost:8080/",
     "height": 289
    },
    "colab_type": "code",
    "id": "WKQR8b3l73KR",
    "outputId": "7b1232c6-e2d3-42f0-900d-5efbd833b9d6"
   },
   "outputs": [
    {
     "name": "stdout",
     "output_type": "stream",
     "text": [
      "WARNING:tensorflow:From C:\\Users\\IDM LAB-01\\Anaconda3\\lib\\site-packages\\tensorflow\\python\\framework\\op_def_library.py:263: colocate_with (from tensorflow.python.framework.ops) is deprecated and will be removed in a future version.\n",
      "Instructions for updating:\n",
      "Colocations handled automatically by placer.\n",
      "WARNING:tensorflow:From C:\\Users\\IDM LAB-01\\Anaconda3\\lib\\site-packages\\keras\\backend\\tensorflow_backend.py:3445: calling dropout (from tensorflow.python.ops.nn_ops) with keep_prob is deprecated and will be removed in a future version.\n",
      "Instructions for updating:\n",
      "Please use `rate` instead of `keep_prob`. Rate should be set to `rate = 1 - keep_prob`.\n",
      "_________________________________________________________________\n",
      "Layer (type)                 Output Shape              Param #   \n",
      "=================================================================\n",
      "embedding_1 (Embedding)      (None, 100, 32)           2291584   \n",
      "_________________________________________________________________\n",
      "lstm_1 (LSTM)                (None, 100, 100)          53200     \n",
      "_________________________________________________________________\n",
      "lstm_2 (LSTM)                (None, 100)               80400     \n",
      "_________________________________________________________________\n",
      "dense_1 (Dense)              (None, 1)                 101       \n",
      "=================================================================\n",
      "Total params: 2,425,285\n",
      "Trainable params: 2,425,285\n",
      "Non-trainable params: 0\n",
      "_________________________________________________________________\n",
      "None\n"
     ]
    }
   ],
   "source": [
    "embedding_vecor_length = 32\n",
    "model2 = Sequential()\n",
    "model2.add(Embedding(len(vocabulary)+1, embedding_vecor_length, input_length=max_review_length))\n",
    "model2.add(LSTM(100, return_sequences=True,dropout=0.4, recurrent_dropout=0.4))\n",
    "model2.add(LSTM(100, dropout=0.4, recurrent_dropout=0.4))\n",
    "model2.add(Dense(1, activation='sigmoid'))\n",
    "model2.compile(loss='binary_crossentropy', optimizer='adam', metrics=['accuracy'])\n",
    "print(model2.summary())"
   ]
  },
  {
   "cell_type": "code",
   "execution_count": 23,
   "metadata": {
    "scrolled": true
   },
   "outputs": [
    {
     "name": "stdout",
     "output_type": "stream",
     "text": [
      "WARNING:tensorflow:From C:\\Users\\IDM LAB-01\\Anaconda3\\lib\\site-packages\\tensorflow\\python\\ops\\math_ops.py:3066: to_int32 (from tensorflow.python.ops.math_ops) is deprecated and will be removed in a future version.\n",
      "Instructions for updating:\n",
      "Use tf.cast instead.\n"
     ]
    },
    {
     "name": "stderr",
     "output_type": "stream",
     "text": [
      "C:\\Users\\IDM LAB-01\\Anaconda3\\lib\\site-packages\\ipykernel_launcher.py:2: UserWarning: The `nb_epoch` argument in `fit` has been renamed `epochs`.\n",
      "  \n"
     ]
    },
    {
     "name": "stdout",
     "output_type": "stream",
     "text": [
      "Train on 182068 samples, validate on 182068 samples\n",
      "Epoch 1/10\n",
      "182068/182068 [==============================] - 470s 3ms/step - loss: 0.2742 - acc: 0.8939 - val_loss: 0.2041 - val_acc: 0.9194\n",
      "Epoch 2/10\n",
      "182068/182068 [==============================] - 416s 2ms/step - loss: 0.1954 - acc: 0.9240 - val_loss: 0.1966 - val_acc: 0.9230\n",
      "Epoch 3/10\n",
      "182068/182068 [==============================] - 424s 2ms/step - loss: 0.1818 - acc: 0.9299 - val_loss: 0.1964 - val_acc: 0.9241\n",
      "Epoch 4/10\n",
      "182068/182068 [==============================] - 425s 2ms/step - loss: 0.1705 - acc: 0.9343 - val_loss: 0.2005 - val_acc: 0.9241\n",
      "Epoch 5/10\n",
      "182068/182068 [==============================] - 417s 2ms/step - loss: 0.1632 - acc: 0.9370 - val_loss: 0.1965 - val_acc: 0.9227\n",
      "Epoch 6/10\n",
      "182068/182068 [==============================] - 418s 2ms/step - loss: 0.1573 - acc: 0.9400 - val_loss: 0.2016 - val_acc: 0.9241\n",
      "Epoch 7/10\n",
      "182068/182068 [==============================] - 414s 2ms/step - loss: 0.1505 - acc: 0.9424 - val_loss: 0.2060 - val_acc: 0.9234\n",
      "Epoch 8/10\n",
      "182068/182068 [==============================] - 412s 2ms/step - loss: 0.1445 - acc: 0.9453 - val_loss: 0.2080 - val_acc: 0.9224\n",
      "Epoch 9/10\n",
      "182068/182068 [==============================] - 413s 2ms/step - loss: 0.1406 - acc: 0.9468 - val_loss: 0.2121 - val_acc: 0.9232\n",
      "Epoch 10/10\n",
      "182068/182068 [==============================] - 413s 2ms/step - loss: 0.1344 - acc: 0.9491 - val_loss: 0.2109 - val_acc: 0.9236\n"
     ]
    }
   ],
   "source": [
    "# Fitting the data to the model\n",
    "history2 = model2.fit(X_train, Y_train, nb_epoch=10, batch_size=512 ,verbose=1,validation_data=(X_test, Y_test))"
   ]
  },
  {
   "cell_type": "code",
   "execution_count": 24,
   "metadata": {},
   "outputs": [
    {
     "name": "stdout",
     "output_type": "stream",
     "text": [
      "Accuracy: 92.36%\n"
     ]
    },
    {
     "data": {
      "image/png": "[encoded data removed]",
      "text/plain": [
       "<Figure size 720x360 with 1 Axes>"
      ]
     },
     "metadata": {
      "needs_background": "light"
     },
     "output_type": "display_data"
    }
   ],
   "source": [
    "# Final evaluation of the model\n",
    "scores = model2.evaluate(X_test, Y_test, verbose=0)\n",
    "print(\"Accuracy: %.2f%%\" % (scores[1]*100))\n",
    "\n",
    "# Test and train accuracy of the model\n",
    "model2_test = scores[1]\n",
    "model2_train = max(history2.history['acc'])\n",
    "\n",
    "# Plotting Train and Test Loss VS no. of epochs\n",
    "# list of epoch numbers\n",
    "x = list(range(1,11))\n",
    "\n",
    "# Validation loss\n",
    "vy = history2.history['val_loss']\n",
    "# Training loss\n",
    "ty = history2.history['loss']\n",
    "\n",
    "# Calling the function to draw the plot\n",
    "plt_dynamic(x, vy, ty)"
   ]
  },
  {
   "cell_type": "code",
   "execution_count": 28,
   "metadata": {},
   "outputs": [
    {
     "name": "stdout",
     "output_type": "stream",
     "text": [
      "+----------------------------+--------------------+--------------------+\n",
      "|           Model            |   Train accuracy   |   Test accuracy    |\n",
      "+----------------------------+--------------------+--------------------+\n",
      "|        1 LSTM Layer        |       96.64        |        91.5        |\n",
      "| 2 Lstm layers with dropout | 0.9491234044671768 | 0.9235944811815453 |\n",
      "+----------------------------+--------------------+--------------------+\n"
     ]
    }
   ],
   "source": [
    "from prettytable import PrettyTable    \n",
    "x = PrettyTable()\n",
    "x.field_names = [\"Model\",\"Train accuracy\",\"Test accuracy\"]\n",
    "x.add_row(['1 LSTM Layer', '96.64' , '91.5'])\n",
    "x.add_row(['2 Lstm layers with dropout',model2_train,model2_test])\n",
    "\n",
    "print(x)\n",
    "with open('LSTM_IMDB_result.txt', 'w') as w:\n",
    "    w.write(str(x))"
   ]
  },
  {
   "cell_type": "markdown",
   "metadata": {
    "colab_type": "text",
    "id": "8tR4WpDIFXjb"
   },
   "source": [
    "Observation:\n",
    "\n",
    "WE can get more accuracy if run more epochs.\n",
    "\n",
    "Model 2 is better because having high test accuracy"
   ]
  }
 ],
 "metadata": {
  "colab": {
   "collapsed_sections": [],
   "name": "LSTM_IMDB.ipynb",
   "provenance": [],
   "version": "0.3.2"
  },
  "kernelspec": {
   "display_name": "Python 3",
   "language": "python",
   "name": "python3"
  },
  "language_info": {
   "codemirror_mode": {
    "name": "ipython",
    "version": 3
   },
   "file_extension": ".py",
   "mimetype": "text/x-python",
   "name": "python",
   "nbconvert_exporter": "python",
   "pygments_lexer": "ipython3",
   "version": "3.7.3"
  }
 },
 "nbformat": 4,
 "nbformat_minor": 1
}
